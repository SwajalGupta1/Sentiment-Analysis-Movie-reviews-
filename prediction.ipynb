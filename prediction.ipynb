{
 "cells": [
  {
   "cell_type": "code",
   "execution_count": 77,
   "id": "d5ead7b4",
   "metadata": {},
   "outputs": [],
   "source": [
    "import numpy as np\n",
    "import tensorflow as tf\n",
    "import tensorflow.keras .preprocessing as sequence\n",
    "from tensorflow.keras.models import Sequential\n",
    "from tensorflow.keras.layers import Embedding,SimpleRNN, Dense\n",
    "from tensorflow.keras.datasets import imdb\n",
    "from tensorflow.keras.utils import pad_sequences\n",
    "from tensorflow.keras.models import load_model"
   ]
  },
  {
   "cell_type": "code",
   "execution_count": 78,
   "id": "fac2d674",
   "metadata": {},
   "outputs": [],
   "source": [
    "word_index= imdb.get_word_index()\n",
    "reverse_word_index={values: key for (key, values) in word_index.items()}"
   ]
  },
  {
   "cell_type": "code",
   "execution_count": 79,
   "id": "fd44cc78",
   "metadata": {},
   "outputs": [
    {
     "name": "stderr",
     "output_type": "stream",
     "text": [
      "WARNING:absl:Compiled the loaded model, but the compiled metrics have yet to be built. `model.compile_metrics` will be empty until you train or evaluate the model.\n"
     ]
    },
    {
     "data": {
      "text/html": [
       "<pre style=\"white-space:pre;overflow-x:auto;line-height:normal;font-family:Menlo,'DejaVu Sans Mono',consolas,'Courier New',monospace\"><span style=\"font-weight: bold\">Model: \"sequential\"</span>\n",
       "</pre>\n"
      ],
      "text/plain": [
       "\u001b[1mModel: \"sequential\"\u001b[0m\n"
      ]
     },
     "metadata": {},
     "output_type": "display_data"
    },
    {
     "data": {
      "text/html": [
       "<pre style=\"white-space:pre;overflow-x:auto;line-height:normal;font-family:Menlo,'DejaVu Sans Mono',consolas,'Courier New',monospace\">┏━━━━━━━━━━━━━━━━━━━━━━━━━━━━━━━━━┳━━━━━━━━━━━━━━━━━━━━━━━━┳━━━━━━━━━━━━━━━┓\n",
       "┃<span style=\"font-weight: bold\"> Layer (type)                    </span>┃<span style=\"font-weight: bold\"> Output Shape           </span>┃<span style=\"font-weight: bold\">       Param # </span>┃\n",
       "┡━━━━━━━━━━━━━━━━━━━━━━━━━━━━━━━━━╇━━━━━━━━━━━━━━━━━━━━━━━━╇━━━━━━━━━━━━━━━┩\n",
       "│ embedding (<span style=\"color: #0087ff; text-decoration-color: #0087ff\">Embedding</span>)           │ (<span style=\"color: #00d7ff; text-decoration-color: #00d7ff\">None</span>, <span style=\"color: #00af00; text-decoration-color: #00af00\">500</span>, <span style=\"color: #00af00; text-decoration-color: #00af00\">128</span>)       │     <span style=\"color: #00af00; text-decoration-color: #00af00\">1,280,000</span> │\n",
       "├─────────────────────────────────┼────────────────────────┼───────────────┤\n",
       "│ simple_rnn (<span style=\"color: #0087ff; text-decoration-color: #0087ff\">SimpleRNN</span>)          │ (<span style=\"color: #00d7ff; text-decoration-color: #00d7ff\">None</span>, <span style=\"color: #00af00; text-decoration-color: #00af00\">128</span>)            │        <span style=\"color: #00af00; text-decoration-color: #00af00\">32,896</span> │\n",
       "├─────────────────────────────────┼────────────────────────┼───────────────┤\n",
       "│ dense (<span style=\"color: #0087ff; text-decoration-color: #0087ff\">Dense</span>)                   │ (<span style=\"color: #00d7ff; text-decoration-color: #00d7ff\">None</span>, <span style=\"color: #00af00; text-decoration-color: #00af00\">1</span>)              │           <span style=\"color: #00af00; text-decoration-color: #00af00\">129</span> │\n",
       "└─────────────────────────────────┴────────────────────────┴───────────────┘\n",
       "</pre>\n"
      ],
      "text/plain": [
       "┏━━━━━━━━━━━━━━━━━━━━━━━━━━━━━━━━━┳━━━━━━━━━━━━━━━━━━━━━━━━┳━━━━━━━━━━━━━━━┓\n",
       "┃\u001b[1m \u001b[0m\u001b[1mLayer (type)                   \u001b[0m\u001b[1m \u001b[0m┃\u001b[1m \u001b[0m\u001b[1mOutput Shape          \u001b[0m\u001b[1m \u001b[0m┃\u001b[1m \u001b[0m\u001b[1m      Param #\u001b[0m\u001b[1m \u001b[0m┃\n",
       "┡━━━━━━━━━━━━━━━━━━━━━━━━━━━━━━━━━╇━━━━━━━━━━━━━━━━━━━━━━━━╇━━━━━━━━━━━━━━━┩\n",
       "│ embedding (\u001b[38;5;33mEmbedding\u001b[0m)           │ (\u001b[38;5;45mNone\u001b[0m, \u001b[38;5;34m500\u001b[0m, \u001b[38;5;34m128\u001b[0m)       │     \u001b[38;5;34m1,280,000\u001b[0m │\n",
       "├─────────────────────────────────┼────────────────────────┼───────────────┤\n",
       "│ simple_rnn (\u001b[38;5;33mSimpleRNN\u001b[0m)          │ (\u001b[38;5;45mNone\u001b[0m, \u001b[38;5;34m128\u001b[0m)            │        \u001b[38;5;34m32,896\u001b[0m │\n",
       "├─────────────────────────────────┼────────────────────────┼───────────────┤\n",
       "│ dense (\u001b[38;5;33mDense\u001b[0m)                   │ (\u001b[38;5;45mNone\u001b[0m, \u001b[38;5;34m1\u001b[0m)              │           \u001b[38;5;34m129\u001b[0m │\n",
       "└─────────────────────────────────┴────────────────────────┴───────────────┘\n"
      ]
     },
     "metadata": {},
     "output_type": "display_data"
    },
    {
     "data": {
      "text/html": [
       "<pre style=\"white-space:pre;overflow-x:auto;line-height:normal;font-family:Menlo,'DejaVu Sans Mono',consolas,'Courier New',monospace\"><span style=\"font-weight: bold\"> Total params: </span><span style=\"color: #00af00; text-decoration-color: #00af00\">1,313,027</span> (5.01 MB)\n",
       "</pre>\n"
      ],
      "text/plain": [
       "\u001b[1m Total params: \u001b[0m\u001b[38;5;34m1,313,027\u001b[0m (5.01 MB)\n"
      ]
     },
     "metadata": {},
     "output_type": "display_data"
    },
    {
     "data": {
      "text/html": [
       "<pre style=\"white-space:pre;overflow-x:auto;line-height:normal;font-family:Menlo,'DejaVu Sans Mono',consolas,'Courier New',monospace\"><span style=\"font-weight: bold\"> Trainable params: </span><span style=\"color: #00af00; text-decoration-color: #00af00\">1,313,025</span> (5.01 MB)\n",
       "</pre>\n"
      ],
      "text/plain": [
       "\u001b[1m Trainable params: \u001b[0m\u001b[38;5;34m1,313,025\u001b[0m (5.01 MB)\n"
      ]
     },
     "metadata": {},
     "output_type": "display_data"
    },
    {
     "data": {
      "text/html": [
       "<pre style=\"white-space:pre;overflow-x:auto;line-height:normal;font-family:Menlo,'DejaVu Sans Mono',consolas,'Courier New',monospace\"><span style=\"font-weight: bold\"> Non-trainable params: </span><span style=\"color: #00af00; text-decoration-color: #00af00\">0</span> (0.00 B)\n",
       "</pre>\n"
      ],
      "text/plain": [
       "\u001b[1m Non-trainable params: \u001b[0m\u001b[38;5;34m0\u001b[0m (0.00 B)\n"
      ]
     },
     "metadata": {},
     "output_type": "display_data"
    },
    {
     "data": {
      "text/html": [
       "<pre style=\"white-space:pre;overflow-x:auto;line-height:normal;font-family:Menlo,'DejaVu Sans Mono',consolas,'Courier New',monospace\"><span style=\"font-weight: bold\"> Optimizer params: </span><span style=\"color: #00af00; text-decoration-color: #00af00\">2</span> (12.00 B)\n",
       "</pre>\n"
      ],
      "text/plain": [
       "\u001b[1m Optimizer params: \u001b[0m\u001b[38;5;34m2\u001b[0m (12.00 B)\n"
      ]
     },
     "metadata": {},
     "output_type": "display_data"
    }
   ],
   "source": [
    "import os\n",
    "\n",
    "model_path = 'SimpleRNN_imdb.h5'\n",
    "if os.path.exists(model_path):\n",
    "\tmodel = load_model(model_path)\n",
    "\tmodel.summary()\n",
    "else:\n",
    "\tprint(f\"Model file '{model_path}' not found. Please check the file path.\")"
   ]
  },
  {
   "cell_type": "code",
   "execution_count": 80,
   "id": "e1e2beb1",
   "metadata": {},
   "outputs": [
    {
     "data": {
      "text/plain": [
       "[array([[ 0.0009164 , -0.60144085,  0.04905408, ..., -0.569026  ,\n",
       "         -0.0630689 ,  0.46300822],\n",
       "        [ 0.01510072, -0.06756873, -0.02998216, ..., -0.05628261,\n",
       "          0.01313548, -0.07912834],\n",
       "        [-0.11643897, -0.065113  ,  0.02257291, ..., -0.03723633,\n",
       "          0.01995275, -0.02454406],\n",
       "        ...,\n",
       "        [ 0.0685279 , -0.11581442,  0.10336631, ..., -0.09548242,\n",
       "          0.08589029,  0.05462121],\n",
       "        [ 0.0186349 ,  0.01931127,  0.00170556, ..., -0.02639591,\n",
       "          0.04314975,  0.04012863],\n",
       "        [ 0.17298491, -0.08452647,  0.14731263, ...,  0.12431705,\n",
       "          0.14901417,  0.11942816]], dtype=float32),\n",
       " array([[ 0.12471431,  0.07307447, -0.06517141, ..., -0.00157898,\n",
       "         -0.03470413, -0.07414763],\n",
       "        [-0.10045443, -0.11043806, -0.13753152, ...,  0.0122578 ,\n",
       "          0.02718789, -0.01930305],\n",
       "        [-0.09544139,  0.06560089,  0.0643348 , ..., -0.14777681,\n",
       "         -0.05432044,  0.06675664],\n",
       "        ...,\n",
       "        [ 0.09686031, -0.02563262, -0.12488079, ...,  0.0532643 ,\n",
       "         -0.00442584,  0.05303121],\n",
       "        [-0.14957263,  0.09294604, -0.02234053, ...,  0.05054159,\n",
       "          0.07977898,  0.16547455],\n",
       "        [-0.08535776,  0.13492842,  0.14676325, ..., -0.08421081,\n",
       "          0.05632342,  0.13288373]], dtype=float32),\n",
       " array([[ 0.0675078 ,  0.01902675, -0.03830183, ..., -0.00153881,\n",
       "         -0.19289568, -0.17076346],\n",
       "        [-0.0695461 , -0.02199585,  0.06607019, ..., -0.09127577,\n",
       "          0.00169606,  0.11100622],\n",
       "        [ 0.10217427,  0.1709415 ,  0.0323699 , ...,  0.03551765,\n",
       "          0.10488579,  0.13503794],\n",
       "        ...,\n",
       "        [-0.11282618, -0.02602122,  0.05944224, ...,  0.04494464,\n",
       "          0.08353083, -0.02790056],\n",
       "        [-0.15656433,  0.09661877, -0.06628995, ...,  0.05667136,\n",
       "          0.04610887, -0.00872454],\n",
       "        [-0.09552662, -0.04434813,  0.26047185, ..., -0.02724146,\n",
       "         -0.18961984,  0.11794229]], dtype=float32),\n",
       " array([-0.0281496 , -0.00743116,  0.00410493,  0.03268422,  0.01117736,\n",
       "        -0.02928927,  0.00270134,  0.0017891 , -0.01917826,  0.02801546,\n",
       "         0.01437914, -0.01832287, -0.04193811, -0.01867925,  0.01351055,\n",
       "         0.03633384, -0.0179961 , -0.04072604,  0.02463962,  0.00032932,\n",
       "         0.01390485,  0.01622258, -0.00395126,  0.00695718, -0.0066081 ,\n",
       "        -0.01675952,  0.01323669, -0.02121082,  0.01956077, -0.0067814 ,\n",
       "         0.03008159, -0.01452952,  0.00525474,  0.03229296, -0.0010213 ,\n",
       "        -0.01981708, -0.03171577, -0.02106446,  0.00299685,  0.01701722,\n",
       "         0.02871511, -0.01323718, -0.03947991, -0.01279107,  0.02772501,\n",
       "        -0.00985744, -0.01269103,  0.00826601, -0.0095245 , -0.02802721,\n",
       "        -0.02952499,  0.05643152,  0.02984859,  0.01023214,  0.00178663,\n",
       "        -0.03082406,  0.01774435, -0.00929323, -0.03278884, -0.03884435,\n",
       "         0.01380675, -0.03496375,  0.00800628, -0.02166647, -0.01595834,\n",
       "        -0.03060012, -0.02269609, -0.00482796, -0.02606312, -0.0032561 ,\n",
       "        -0.00209534, -0.00503578, -0.01180114, -0.02836415, -0.0178714 ,\n",
       "        -0.04184528, -0.0134336 , -0.02790118,  0.02449866,  0.00280306,\n",
       "         0.00461192, -0.009772  ,  0.04206999,  0.01066144,  0.03042554,\n",
       "         0.00527234,  0.01124782, -0.03073031, -0.03328864, -0.02057987,\n",
       "         0.01072678,  0.00973626, -0.02523679, -0.01001856, -0.02604975,\n",
       "        -0.02608546, -0.00709999,  0.01990932,  0.01348737,  0.0008375 ,\n",
       "         0.01460815,  0.02827428,  0.02497525,  0.00495808, -0.00738002,\n",
       "         0.01797169, -0.02193993, -0.01356684, -0.00545948, -0.03323082,\n",
       "        -0.01716338, -0.00529752,  0.00942047, -0.02375214, -0.03668474,\n",
       "         0.02159061,  0.02713428, -0.01911562,  0.04204175, -0.00340668,\n",
       "         0.01437552,  0.04258822, -0.01060059,  0.04442365, -0.02340314,\n",
       "         0.03332799, -0.02537752,  0.0274836 ], dtype=float32),\n",
       " array([[ 0.18997815],\n",
       "        [ 0.11979621],\n",
       "        [ 0.61669683],\n",
       "        [-0.1554002 ],\n",
       "        [-0.12369224],\n",
       "        [ 0.10606373],\n",
       "        [-0.19363347],\n",
       "        [ 0.0008428 ],\n",
       "        [ 0.15580648],\n",
       "        [ 0.26026857],\n",
       "        [-0.30716005],\n",
       "        [-0.06183175],\n",
       "        [-0.09151778],\n",
       "        [-0.18363866],\n",
       "        [ 0.01751023],\n",
       "        [-0.11965677],\n",
       "        [ 0.01304951],\n",
       "        [-0.16290195],\n",
       "        [ 0.14824694],\n",
       "        [-0.42304182],\n",
       "        [ 0.4636796 ],\n",
       "        [-0.4879401 ],\n",
       "        [ 0.13928922],\n",
       "        [ 0.10348386],\n",
       "        [-0.15936713],\n",
       "        [ 0.15388769],\n",
       "        [ 0.16472317],\n",
       "        [ 0.22613655],\n",
       "        [ 0.09497714],\n",
       "        [ 0.09413464],\n",
       "        [-0.02889291],\n",
       "        [-0.054312  ],\n",
       "        [ 0.6779854 ],\n",
       "        [-0.14332284],\n",
       "        [ 0.16273892],\n",
       "        [ 0.25339696],\n",
       "        [-0.04895485],\n",
       "        [-0.04513591],\n",
       "        [ 0.06463952],\n",
       "        [-0.15890308],\n",
       "        [-0.00338605],\n",
       "        [ 0.05821874],\n",
       "        [-0.08759485],\n",
       "        [ 0.11234656],\n",
       "        [-0.13733652],\n",
       "        [-0.05470591],\n",
       "        [-0.31489545],\n",
       "        [ 0.10704827],\n",
       "        [-0.1273613 ],\n",
       "        [-0.00991426],\n",
       "        [ 0.03642174],\n",
       "        [ 0.17015176],\n",
       "        [ 0.28369114],\n",
       "        [-0.09418467],\n",
       "        [-0.3067306 ],\n",
       "        [-0.16725618],\n",
       "        [ 0.1490136 ],\n",
       "        [-0.03007973],\n",
       "        [ 0.23165902],\n",
       "        [ 0.01494088],\n",
       "        [-0.19357687],\n",
       "        [-0.1964098 ],\n",
       "        [ 0.22609559],\n",
       "        [-0.14018483],\n",
       "        [ 0.2069412 ],\n",
       "        [ 0.19485079],\n",
       "        [ 0.11081397],\n",
       "        [-0.10204159],\n",
       "        [ 0.10041078],\n",
       "        [ 0.11294024],\n",
       "        [ 0.20561564],\n",
       "        [ 0.17913978],\n",
       "        [ 0.25861076],\n",
       "        [-0.04888095],\n",
       "        [-0.09567813],\n",
       "        [ 0.04987399],\n",
       "        [ 0.16079812],\n",
       "        [ 0.02502537],\n",
       "        [-0.10416931],\n",
       "        [-0.18442859],\n",
       "        [-0.14492999],\n",
       "        [-0.22248001],\n",
       "        [ 0.00471877],\n",
       "        [ 0.14523989],\n",
       "        [-0.11148135],\n",
       "        [ 0.19629681],\n",
       "        [-0.17399122],\n",
       "        [ 0.05363251],\n",
       "        [-0.1116327 ],\n",
       "        [ 0.17980996],\n",
       "        [-0.13931789],\n",
       "        [-0.01364588],\n",
       "        [ 0.11109191],\n",
       "        [ 0.12815046],\n",
       "        [ 0.02598818],\n",
       "        [ 0.31820038],\n",
       "        [-0.01729921],\n",
       "        [-0.04757092],\n",
       "        [ 0.1257697 ],\n",
       "        [ 0.18865973],\n",
       "        [-0.20547596],\n",
       "        [-0.14963356],\n",
       "        [ 0.05685355],\n",
       "        [ 0.39940703],\n",
       "        [ 0.21973023],\n",
       "        [-0.08981676],\n",
       "        [-0.06322508],\n",
       "        [-0.30043936],\n",
       "        [ 0.21920635],\n",
       "        [ 0.17848617],\n",
       "        [ 0.05696446],\n",
       "        [ 0.09377054],\n",
       "        [-0.11556658],\n",
       "        [-0.09291945],\n",
       "        [ 0.16479003],\n",
       "        [ 0.15398374],\n",
       "        [-0.06394895],\n",
       "        [-0.18778834],\n",
       "        [-0.29872814],\n",
       "        [ 0.1566324 ],\n",
       "        [ 0.19683175],\n",
       "        [-0.0206621 ],\n",
       "        [-0.08790266],\n",
       "        [-0.16185555],\n",
       "        [ 0.18356773],\n",
       "        [-0.10459857],\n",
       "        [-0.04415601],\n",
       "        [ 0.22098893]], dtype=float32),\n",
       " array([0.13331112], dtype=float32)]"
      ]
     },
     "execution_count": 80,
     "metadata": {},
     "output_type": "execute_result"
    }
   ],
   "source": [
    "model.get_weights()"
   ]
  },
  {
   "cell_type": "code",
   "execution_count": 81,
   "id": "f00d9766",
   "metadata": {},
   "outputs": [],
   "source": [
    "def decode_review(text):\n",
    "    return' '.join([reverse_word_index.get(i - 3, '?') for i in text])"
   ]
  },
  {
   "cell_type": "code",
   "execution_count": 82,
   "id": "f1774a64",
   "metadata": {},
   "outputs": [],
   "source": [
    "def preprocess_text(text):\n",
    "    words = text.lower().split()\n",
    "    encoded_text = [word_index.get(word,0) + 3 for word in words]\n",
    "    padded_text = pad_sequences([encoded_text], maxlen=500)\n",
    "    return padded_text"
   ]
  },
  {
   "cell_type": "code",
   "execution_count": 83,
   "id": "e81555e3",
   "metadata": {},
   "outputs": [],
   "source": [
    "### Prediction Function\n",
    "def predict_sentiment(text):\n",
    "\tpreprocessed_text = preprocess_text(text)\n",
    "\tprediction = model.predict(preprocessed_text)\n",
    "\tsentiment = 'positive' if prediction[0][0] > 0.5 else 'negative'\n",
    "\treturn sentiment, prediction[0][0]"
   ]
  },
  {
   "cell_type": "code",
   "execution_count": 86,
   "id": "4431663e",
   "metadata": {},
   "outputs": [
    {
     "name": "stdout",
     "output_type": "stream",
     "text": [
      "\u001b[1m1/1\u001b[0m \u001b[32m━━━━━━━━━━━━━━━━━━━━\u001b[0m\u001b[37m\u001b[0m \u001b[1m0s\u001b[0m 47ms/step\n",
      "Review: This movie was very brilliant but The acting was great and the plot was thrilling.\n",
      "Sentiment: positive (Score: 0.6302)\n"
     ]
    }
   ],
   "source": [
    "example_review = \"This movie was very brilliant but The acting was great and the plot was thrilling.\"\n",
    "sentiment, score = predict_sentiment(example_review)\n",
    "print(f\"Review: {example_review}\")\n",
    "print(f\"Sentiment: {sentiment} (Score: {score:.4f})\")"
   ]
  },
  {
   "cell_type": "code",
   "execution_count": null,
   "id": "90fa9e71",
   "metadata": {},
   "outputs": [],
   "source": []
  }
 ],
 "metadata": {
  "kernelspec": {
   "display_name": "venv",
   "language": "python",
   "name": "python3"
  },
  "language_info": {
   "codemirror_mode": {
    "name": "ipython",
    "version": 3
   },
   "file_extension": ".py",
   "mimetype": "text/x-python",
   "name": "python",
   "nbconvert_exporter": "python",
   "pygments_lexer": "ipython3",
   "version": "3.12.0"
  }
 },
 "nbformat": 4,
 "nbformat_minor": 5
}
